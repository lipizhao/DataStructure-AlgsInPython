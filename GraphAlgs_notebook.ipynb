{
 "cells": [
  {
   "cell_type": "code",
   "execution_count": 1,
   "metadata": {
    "collapsed": false
   },
   "outputs": [],
   "source": [
    "class Vertex:\n",
    "    def __init__(self,key):\n",
    "        self.id = key\n",
    "        self.distance=0\n",
    "        self.predecessor=None\n",
    "        self.color = 'white'\n",
    "        self.connectedTo = {}\n",
    "\n",
    "    def addNeighbor(self,nbr,weight=0):\n",
    "        self.connectedTo[nbr] = weight\n",
    "\n",
    "    def __str__(self):\n",
    "         return str(self.id) + 'pred: '+ str(self.predecessor)+'color: '+self.color+'distance= '+str(self.distance)+ 'connectedTo: ' + str([x.id for x in self.connectedTo])\n",
    "\n",
    "    def getConnections(self):\n",
    "        return self.connectedTo.keys()\n",
    "\n",
    "    def getId(self):\n",
    "        return self.id\n",
    "    \n",
    "    def getDistance(self):\n",
    "        return self.distance\n",
    "\n",
    "    def setDistance(self,dis):\n",
    "        self.distance = dis\n",
    "\n",
    "    def getColor(self):\n",
    "        return self.color\n",
    "\n",
    "    def setColor(self,col):\n",
    "        self.color = col\n",
    "\n",
    "    def getPred(self):\n",
    "        return self.predecessor\n",
    "\n",
    "    def setPred(self,pre):\n",
    "        self.predecessor = pre\n",
    "        \n",
    "    def getWeight(self,nbr):\n",
    "        return self.connectedTo[nbr]\n",
    "\n",
    "\n",
    "class Graph:\n",
    "    def __init__(self):\n",
    "        self.vertList = {}\n",
    "        self.numVertices = 0\n",
    " \n",
    "    def addVertex(self,key):\n",
    "        self.numVertices = self.numVertices + 1\n",
    "        newVertex = Vertex(key)\n",
    "        self.vertList[key] = newVertex\n",
    "        return newVertex\n",
    "\n",
    "    def getVertex(self,n):\n",
    "        if n in self.vertList:\n",
    "            return self.vertList[n]\n",
    "        else:\n",
    "            return None\n",
    "\n",
    "    def __contains__(self,n):\n",
    "        return n in self.vertList\n",
    "\n",
    "    def addEdge(self,f,t,cost=0):\n",
    "        if f not in self.vertList:\n",
    "            nv = self.addVertex(f)\n",
    "        if t not in self.vertList:\n",
    "            nv = self.addVertex(t)\n",
    "        self.vertList[f].addNeighbor(self.vertList[t], cost)\n",
    "    \n",
    "    def getVertices(self):\n",
    "        return self.vertList.keys()\n",
    "\n",
    "    def __iter__(self):\n",
    "        return iter(self.vertList.values())"
   ]
  },
  {
   "cell_type": "code",
   "execution_count": 2,
   "metadata": {
    "collapsed": false
   },
   "outputs": [
    {
     "name": "stdout",
     "output_type": "stream",
     "text": [
      "{0: <__main__.Vertex object at 0x000001688D3863C8>, 1: <__main__.Vertex object at 0x000001688D386518>, 2: <__main__.Vertex object at 0x000001688D3865C0>, 3: <__main__.Vertex object at 0x000001688D3865F8>, 4: <__main__.Vertex object at 0x000001688D386550>, 5: <__main__.Vertex object at 0x000001688D386630>}\n",
      "( 0 , 1 )\n",
      "( 0 , 5 )\n",
      "( 1 , 2 )\n",
      "( 2 , 3 )\n",
      "( 3 , 5 )\n",
      "( 3 , 4 )\n",
      "( 4 , 0 )\n",
      "( 5 , 2 )\n",
      "( 5 , 4 )\n"
     ]
    }
   ],
   "source": [
    "##Testing graph\n",
    "g = Graph()\n",
    "for i in range(6):\n",
    "    g.addVertex(i)\n",
    "print(g.vertList)   \n",
    "        \n",
    "g.addEdge(0,1,5)\n",
    "g.addEdge(0,5,2)\n",
    "g.addEdge(1,2,4)\n",
    "g.addEdge(2,3,9)\n",
    "g.addEdge(3,4,7)\n",
    "g.addEdge(3,5,3)\n",
    "g.addEdge(4,0,1)\n",
    "g.addEdge(5,4,8)\n",
    "g.addEdge(5,2,1)\n",
    "for v in g:\n",
    "    for w in v.getConnections():\n",
    "        print(\"( %s , %s )\" % (v.getId(), w.getId()))"
   ]
  },
  {
   "cell_type": "code",
   "execution_count": 7,
   "metadata": {
    "collapsed": false
   },
   "outputs": [
    {
     "data": {
      "text/plain": [
       "{'COOL',\n",
       " 'FAIL',\n",
       " 'FOIL',\n",
       " 'FOOL',\n",
       " 'FOOL ',\n",
       " 'FOUL',\n",
       " 'PAGE',\n",
       " 'PALE',\n",
       " 'PALL',\n",
       " 'POLE',\n",
       " 'POLL',\n",
       " 'POOL',\n",
       " 'POPE',\n",
       " 'SAGE',\n",
       " 'SALE'}"
      ]
     },
     "execution_count": 7,
     "metadata": {},
     "output_type": "execute_result"
    }
   ],
   "source": [
    "# build graph for words\n",
    "wfile = open(\"WORDs.txt\",'r')\n",
    "word_list = []\n",
    "for line in wfile:\n",
    "    word = line[:-1]\n",
    "    word_list.append(word)\n",
    "word_list\n",
    "word_set = set(word_list)\n",
    "word_set"
   ]
  },
  {
   "cell_type": "code",
   "execution_count": 8,
   "metadata": {
    "collapsed": false
   },
   "outputs": [
    {
     "name": "stdout",
     "output_type": "stream",
     "text": [
      "F_IL ['FOIL', 'FAIL']\n",
      "P_PE ['POPE']\n",
      "_OIL ['FOIL']\n",
      "FOI_ ['FOIL']\n",
      "PA_L ['PALL']\n",
      "PAG_ ['PAGE']\n",
      "POP_ ['POPE']\n",
      "PAL_ ['PALL', 'PALE']\n",
      "F_OL  ['FOOL ']\n",
      "CO_L ['COOL']\n",
      "S_GE ['SAGE']\n",
      "_AGE ['PAGE', 'SAGE']\n",
      "_OLL ['POLL']\n",
      "_OLE ['POLE']\n",
      "F_OL ['FOOL']\n",
      "S_LE ['SALE']\n",
      "_ALL ['PALL']\n",
      "P_LL ['POLL', 'PALL']\n",
      "C_OL ['COOL']\n",
      "SA_E ['SALE', 'SAGE']\n",
      "_ALE ['SALE', 'PALE']\n",
      "_OOL ['FOOL', 'POOL', 'COOL']\n",
      "_AIL ['FAIL']\n",
      "POL_ ['POLL', 'POLE']\n",
      "PA_E ['PALE', 'PAGE']\n",
      "SAG_ ['SAGE']\n",
      "PO_E ['POPE', 'POLE']\n",
      "P_OL ['POOL']\n",
      "FOOL_ ['FOOL ']\n",
      "FO_L ['FOUL', 'FOOL', 'FOIL']\n",
      "P_LE ['PALE', 'POLE']\n",
      "SAL_ ['SALE']\n",
      "POO_ ['POOL']\n",
      "COO_ ['COOL']\n",
      "PO_L ['POLL', 'POOL']\n",
      "P_GE ['PAGE']\n",
      "F_UL ['FOUL']\n",
      "_OPE ['POPE']\n",
      "FA_L ['FAIL']\n",
      "FOO_  ['FOOL ']\n",
      "_OOL  ['FOOL ']\n",
      "_OUL ['FOUL']\n",
      "FAI_ ['FAIL']\n",
      "FOO_ ['FOOL']\n",
      "FOU_ ['FOUL']\n",
      "FO_L  ['FOOL ']\n"
     ]
    }
   ],
   "source": [
    "d={}\n",
    "for word in word_set:\n",
    "    for i in range(len(word)):\n",
    "        bucket = word[:i]+'_'+word[i+1:]\n",
    "        if bucket in d:\n",
    "            d[bucket].append(word)\n",
    "        else:\n",
    "            d[bucket]=[word]\n",
    "for i,v in d.items():\n",
    "    print(i,v)"
   ]
  },
  {
   "cell_type": "code",
   "execution_count": 74,
   "metadata": {
    "collapsed": false
   },
   "outputs": [
    {
     "name": "stdout",
     "output_type": "stream",
     "text": [
      "( FOIL , FOOL )\n",
      "( FOIL , FAIL )\n",
      "( FOIL , FOUL )\n",
      "( SAGE , SALE )\n",
      "( SAGE , PAGE )\n",
      "( FOOL , COOL )\n",
      "( FOOL , POOL )\n",
      "( FOOL , FOIL )\n",
      "( FOOL , FOUL )\n",
      "( POOL , COOL )\n",
      "( POOL , FOOL )\n",
      "( POOL , POLL )\n",
      "( PAGE , SAGE )\n",
      "( PAGE , PALE )\n",
      "( POLE , POPE )\n",
      "( POLE , PALE )\n",
      "( POLE , POLL )\n",
      "( SALE , SAGE )\n",
      "( SALE , PALE )\n",
      "( PALE , SALE )\n",
      "( PALE , PAGE )\n",
      "( PALE , PALL )\n",
      "( PALE , POLE )\n",
      "( POPE , POLE )\n",
      "( PALL , PALE )\n",
      "( PALL , POLL )\n",
      "( FAIL , FOIL )\n",
      "( FOUL , FOOL )\n",
      "( FOUL , FOIL )\n",
      "( POLL , POOL )\n",
      "( POLL , POLE )\n",
      "( POLL , PALL )\n",
      "( COOL , POOL )\n",
      "( COOL , FOOL )\n"
     ]
    }
   ],
   "source": [
    "word_g = Graph()\n",
    "for bucket in d.keys():\n",
    "    for word1 in d[bucket]:\n",
    "        for word2 in d[bucket]:\n",
    "                if word1 != word2:\n",
    "                    word_g.addEdge(word1,word2)\n",
    "for v in word_g:\n",
    "    for w in v.getConnections():\n",
    "        print(\"( %s , %s )\" % (v.getId(), w.getId()))   "
   ]
  },
  {
   "cell_type": "code",
   "execution_count": 92,
   "metadata": {
    "collapsed": false
   },
   "outputs": [],
   "source": [
    "import queue\n",
    "\n",
    "def BFS(g,start):\n",
    "    start.setDistance(0)\n",
    "    start.setPred(None)\n",
    "    vertQueue = queue.Queue()\n",
    "    vertQueue.put(start)\n",
    "    while (vertQueue.qsize() > 0):\n",
    "        currentVert = vertQueue.get()\n",
    "        for nbr in currentVert.getConnections():\n",
    "            if (nbr.getColor() == 'white'):\n",
    "                nbr.setColor('gray')\n",
    "                nbr.setDistance(currentVert.getDistance() + 1)\n",
    "                nbr.setPred(currentVert)\n",
    "                vertQueue.put(nbr)\n",
    "                currentVert.setColor('black')\n",
    "    \n",
    "startV = word_g.getVertex('FOOL')\n",
    "BFS(word_g,startV)    "
   ]
  },
  {
   "cell_type": "code",
   "execution_count": 93,
   "metadata": {
    "collapsed": false,
    "scrolled": true
   },
   "outputs": [
    {
     "name": "stdout",
     "output_type": "stream",
     "text": [
      "SAGE\n",
      "SALE\n",
      "PALE\n",
      "POLE\n",
      "POLL\n",
      "POOL\n",
      "FOOL\n"
     ]
    }
   ],
   "source": [
    "def traverse(y):\n",
    "    x = y\n",
    "    while (x.getPred()):\n",
    "        print(x.getId())\n",
    "        x = x.getPred()\n",
    "    print(x.getId())\n",
    "\n",
    "    \n",
    "traverse(word_g.getVertex('SAGE'))"
   ]
  },
  {
   "cell_type": "markdown",
   "metadata": {
    "collapsed": true
   },
   "source": [
    "                        the Knight’s Tour"
   ]
  },
  {
   "cell_type": "code",
   "execution_count": 2,
   "metadata": {
    "collapsed": true
   },
   "outputs": [],
   "source": [
    "def knightGraph(bdSize):\n",
    "    ktGraph = Graph()\n",
    "    for row in range(bdSize):\n",
    "       for col in range(bdSize):\n",
    "           nodeId = posToNodeId(row,col,bdSize)\n",
    "           newPositions = genLegalMoves(row,col,bdSize)\n",
    "           for e in newPositions:\n",
    "               nid = posToNodeId(e[0],e[1],bdSize)\n",
    "               ktGraph.addEdge(nodeId,nid)\n",
    "    return ktGraph\n",
    "\n",
    "def posToNodeId(row, column, board_size):\n",
    "    return (row * board_size) + column\n",
    "\n",
    "def genLegalMoves(x,y,bdSize):\n",
    "    newMoves = []\n",
    "    moveOffsets = [(-1,-2),(-1,2),(-2,-1),(-2,1),\n",
    "                   ( 1,-2),( 1,2),( 2,-1),( 2,1)]\n",
    "    for i in moveOffsets:\n",
    "        newX = x + i[0]\n",
    "        newY = y + i[1]\n",
    "        if legalCoord(newX,bdSize) and legalCoord(newY,bdSize):\n",
    "            newMoves.append((newX,newY))\n",
    "    return newMoves\n",
    "\n",
    "def legalCoord(x,bdSize):\n",
    "    if x >= 0 and x < bdSize:\n",
    "        return True\n",
    "    else:\n",
    "        return False\n",
    "    \n",
    "knight_g = knightGraph(8)    "
   ]
  },
  {
   "cell_type": "code",
   "execution_count": 4,
   "metadata": {
    "collapsed": false
   },
   "outputs": [
    {
     "name": "stdout",
     "output_type": "stream",
     "text": [
      "dict_keys([0, 1, 2, 3, 4, 5, 6, 7, 8, 9, 10, 11, 12, 13, 14, 15, 16, 17, 18, 19, 20, 21, 22, 23, 24, 25, 26, 27, 28, 29, 30, 31, 32, 33, 34, 35, 36, 37, 38, 39, 40, 41, 42, 43, 44, 45, 46, 47, 48, 49, 50, 51, 52, 53, 54, 55, 56, 57, 58, 59, 60, 61, 62, 63])\n"
     ]
    }
   ],
   "source": [
    "print(knight_g.getVertices())"
   ]
  },
  {
   "cell_type": "code",
   "execution_count": null,
   "metadata": {
    "collapsed": true
   },
   "outputs": [],
   "source": [
    "def knightTour(n,path,u,limit):\n",
    "        u.setColor('gray')\n",
    "        path.append(u)\n",
    "        if n < limit:\n",
    "            nbrList = list(u.getConnections())\n",
    "            i = 0\n",
    "            done = False\n",
    "            while i < len(nbrList) and not done:\n",
    "                if nbrList[i].getColor() == 'white':\n",
    "                    done = knightTour(n+1, path, nbrList[i], limit)\n",
    "                i = i + 1\n",
    "            if not done:  # prepare to backtrack\n",
    "                path.pop()\n",
    "                u.setColor('white')\n",
    "        else:\n",
    "            done = True\n",
    "        return done"
   ]
  },
  {
   "cell_type": "code",
   "execution_count": null,
   "metadata": {
    "collapsed": true
   },
   "outputs": [],
   "source": [
    "def orderByAvail(n):\n",
    "    resList = []\n",
    "    for v in n.getConnections():\n",
    "        if v.getColor() == 'white':\n",
    "            c = 0\n",
    "            for w in v.getConnections():\n",
    "                if w.getColor() == 'white':\n",
    "                    c = c + 1\n",
    "            resList.append((c,v))\n",
    "    resList.sort(key=lambda x: x[0])\n",
    "    return [y[1] for y in resList]"
   ]
  },
  {
   "cell_type": "code",
   "execution_count": null,
   "metadata": {
    "collapsed": true
   },
   "outputs": [],
   "source": [
    "class DFSGraph(Graph):\n",
    "    def __init__(self):\n",
    "        super().__init__()\n",
    "        self.time = 0\n",
    "\n",
    "    def dfs(self):\n",
    "        for aVertex in self:\n",
    "            aVertex.setColor('white')\n",
    "            aVertex.setPred(-1)\n",
    "        for aVertex in self:\n",
    "            if aVertex.getColor() == 'white':\n",
    "                self.dfsvisit(aVertex)\n",
    "\n",
    "    def dfsvisit(self,startVertex):\n",
    "        startVertex.setColor('gray')\n",
    "        self.time += 1\n",
    "        startVertex.setDiscovery(self.time)\n",
    "        for nextVertex in startVertex.getConnections():\n",
    "            if nextVertex.getColor() == 'white':\n",
    "                nextVertex.setPred(startVertex)\n",
    "                self.dfsvisit(nextVertex)\n",
    "        startVertex.setColor('black')\n",
    "        self.time += 1\n",
    "        startVertex.setFinish(self.time)"
   ]
  },
  {
   "cell_type": "markdown",
   "metadata": {},
   "source": [
    "dijkstra for WORD LADDER"
   ]
  },
  {
   "cell_type": "code",
   "execution_count": 9,
   "metadata": {
    "collapsed": false
   },
   "outputs": [
    {
     "name": "stdout",
     "output_type": "stream",
     "text": [
      "( FOUL , FOOL )\n",
      "( FOUL , FOIL )\n",
      "( POPE , POLE )\n",
      "( FOOL , POOL )\n",
      "( FOOL , COOL )\n",
      "( FOOL , FOIL )\n",
      "( FOOL , FOUL )\n",
      "( FOIL , FOUL )\n",
      "( FOIL , FOOL )\n",
      "( FOIL , FAIL )\n",
      "( POLL , POOL )\n",
      "( POLL , POLE )\n",
      "( POLL , PALL )\n",
      "( PALL , POLL )\n",
      "( PALL , PALE )\n",
      "( PALE , POLE )\n",
      "( PALE , SALE )\n",
      "( PALE , PAGE )\n",
      "( PALE , PALL )\n",
      "( POOL , POLL )\n",
      "( POOL , FOOL )\n",
      "( POOL , COOL )\n",
      "( POLE , POLL )\n",
      "( POLE , PALE )\n",
      "( POLE , POPE )\n",
      "( PAGE , SAGE )\n",
      "( PAGE , PALE )\n",
      "( FAIL , FOIL )\n",
      "( SALE , SAGE )\n",
      "( SALE , PALE )\n",
      "( COOL , POOL )\n",
      "( COOL , FOOL )\n",
      "( SAGE , SALE )\n",
      "( SAGE , PAGE )\n"
     ]
    }
   ],
   "source": [
    "word_g = Graph()\n",
    "for bucket in d.keys():\n",
    "    for word1 in d[bucket]:\n",
    "        for word2 in d[bucket]:\n",
    "                if word1 != word2:\n",
    "                    word_g.addEdge(word1,word2,10000)\n",
    "for v in word_g:\n",
    "    for w in v.getConnections():\n",
    "        print(\"( %s , %s )\" % (v.getId(), w.getId()))   "
   ]
  },
  {
   "cell_type": "code",
   "execution_count": 30,
   "metadata": {
    "collapsed": false
   },
   "outputs": [],
   "source": [
    "import queue\n",
    "def dijkstra(aGraph,start):\n",
    "    pq = queue.PriorityQueue()\n",
    "    start.setDistance(0)\n",
    "    pq.put([(v.getDistance(),v) for v in aGraph])\n",
    "    while not pq.empty():\n",
    "        currentVert = pq.get()\n",
    "        currentVert = aGraph.getVertex(currentVert)\n",
    "        for nextVert in currentVert.getConnections():\n",
    "            newDist = currentVert.getDistance() + currentVert.getWeight(nextVert)\n",
    "            if newDist < nextVert.getDistance():\n",
    "                nextVert.setDistance( newDist )\n",
    "                nextVert.setPred(currentVert)\n",
    "                pq.put((newDist,nextVert))\n",
    "  "
   ]
  },
  {
   "cell_type": "code",
   "execution_count": 31,
   "metadata": {
    "collapsed": false
   },
   "outputs": [
    {
     "ename": "TypeError",
     "evalue": "unhashable type: 'list'",
     "output_type": "error",
     "traceback": [
      "\u001b[0;31m---------------------------------------------------------------------------\u001b[0m",
      "\u001b[0;31mTypeError\u001b[0m                                 Traceback (most recent call last)",
      "\u001b[0;32m<ipython-input-31-9ac56c2759b9>\u001b[0m in \u001b[0;36m<module>\u001b[0;34m()\u001b[0m\n\u001b[1;32m      1\u001b[0m \u001b[0mstartV\u001b[0m \u001b[1;33m=\u001b[0m \u001b[0mword_g\u001b[0m\u001b[1;33m.\u001b[0m\u001b[0mgetVertex\u001b[0m\u001b[1;33m(\u001b[0m\u001b[1;34m'FOOL'\u001b[0m\u001b[1;33m)\u001b[0m\u001b[1;33m\u001b[0m\u001b[0m\n\u001b[0;32m----> 2\u001b[0;31m \u001b[0mdijkstra\u001b[0m\u001b[1;33m(\u001b[0m\u001b[0mword_g\u001b[0m\u001b[1;33m,\u001b[0m\u001b[0mstartV\u001b[0m\u001b[1;33m)\u001b[0m\u001b[1;33m\u001b[0m\u001b[0m\n\u001b[0m",
      "\u001b[0;32m<ipython-input-30-d14d08c0a19f>\u001b[0m in \u001b[0;36mdijkstra\u001b[0;34m(aGraph, start)\u001b[0m\n\u001b[1;32m      6\u001b[0m     \u001b[1;32mwhile\u001b[0m \u001b[1;32mnot\u001b[0m \u001b[0mpq\u001b[0m\u001b[1;33m.\u001b[0m\u001b[0mempty\u001b[0m\u001b[1;33m(\u001b[0m\u001b[1;33m)\u001b[0m\u001b[1;33m:\u001b[0m\u001b[1;33m\u001b[0m\u001b[0m\n\u001b[1;32m      7\u001b[0m         \u001b[0mcurrentVert\u001b[0m \u001b[1;33m=\u001b[0m \u001b[0mpq\u001b[0m\u001b[1;33m.\u001b[0m\u001b[0mget\u001b[0m\u001b[1;33m(\u001b[0m\u001b[1;33m)\u001b[0m\u001b[1;33m\u001b[0m\u001b[0m\n\u001b[0;32m----> 8\u001b[0;31m         \u001b[0mcurrentVert\u001b[0m \u001b[1;33m=\u001b[0m \u001b[0maGraph\u001b[0m\u001b[1;33m.\u001b[0m\u001b[0mgetVertex\u001b[0m\u001b[1;33m(\u001b[0m\u001b[0mcurrentVert\u001b[0m\u001b[1;33m)\u001b[0m\u001b[1;33m\u001b[0m\u001b[0m\n\u001b[0m\u001b[1;32m      9\u001b[0m         \u001b[1;32mfor\u001b[0m \u001b[0mnextVert\u001b[0m \u001b[1;32min\u001b[0m \u001b[0mcurrentVert\u001b[0m\u001b[1;33m.\u001b[0m\u001b[0mgetConnections\u001b[0m\u001b[1;33m(\u001b[0m\u001b[1;33m)\u001b[0m\u001b[1;33m:\u001b[0m\u001b[1;33m\u001b[0m\u001b[0m\n\u001b[1;32m     10\u001b[0m             \u001b[0mnewDist\u001b[0m \u001b[1;33m=\u001b[0m \u001b[0mcurrentVert\u001b[0m\u001b[1;33m.\u001b[0m\u001b[0mgetDistance\u001b[0m\u001b[1;33m(\u001b[0m\u001b[1;33m)\u001b[0m \u001b[1;33m+\u001b[0m \u001b[0mcurrentVert\u001b[0m\u001b[1;33m.\u001b[0m\u001b[0mgetWeight\u001b[0m\u001b[1;33m(\u001b[0m\u001b[0mnextVert\u001b[0m\u001b[1;33m)\u001b[0m\u001b[1;33m\u001b[0m\u001b[0m\n",
      "\u001b[0;32m<ipython-input-1-ed514b0262a3>\u001b[0m in \u001b[0;36mgetVertex\u001b[0;34m(self, n)\u001b[0m\n\u001b[1;32m     53\u001b[0m \u001b[1;33m\u001b[0m\u001b[0m\n\u001b[1;32m     54\u001b[0m     \u001b[1;32mdef\u001b[0m \u001b[0mgetVertex\u001b[0m\u001b[1;33m(\u001b[0m\u001b[0mself\u001b[0m\u001b[1;33m,\u001b[0m\u001b[0mn\u001b[0m\u001b[1;33m)\u001b[0m\u001b[1;33m:\u001b[0m\u001b[1;33m\u001b[0m\u001b[0m\n\u001b[0;32m---> 55\u001b[0;31m         \u001b[1;32mif\u001b[0m \u001b[0mn\u001b[0m \u001b[1;32min\u001b[0m \u001b[0mself\u001b[0m\u001b[1;33m.\u001b[0m\u001b[0mvertList\u001b[0m\u001b[1;33m:\u001b[0m\u001b[1;33m\u001b[0m\u001b[0m\n\u001b[0m\u001b[1;32m     56\u001b[0m             \u001b[1;32mreturn\u001b[0m \u001b[0mself\u001b[0m\u001b[1;33m.\u001b[0m\u001b[0mvertList\u001b[0m\u001b[1;33m[\u001b[0m\u001b[0mn\u001b[0m\u001b[1;33m]\u001b[0m\u001b[1;33m\u001b[0m\u001b[0m\n\u001b[1;32m     57\u001b[0m         \u001b[1;32melse\u001b[0m\u001b[1;33m:\u001b[0m\u001b[1;33m\u001b[0m\u001b[0m\n",
      "\u001b[0;31mTypeError\u001b[0m: unhashable type: 'list'"
     ]
    }
   ],
   "source": [
    "startV = word_g.getVertex('FOOL')\n",
    "dijkstra(word_g,startV) "
   ]
  },
  {
   "cell_type": "code",
   "execution_count": null,
   "metadata": {
    "collapsed": true
   },
   "outputs": [],
   "source": []
  }
 ],
 "metadata": {
  "anaconda-cloud": {},
  "kernelspec": {
   "display_name": "Python [default]",
   "language": "python",
   "name": "python3"
  },
  "language_info": {
   "codemirror_mode": {
    "name": "ipython",
    "version": 3
   },
   "file_extension": ".py",
   "mimetype": "text/x-python",
   "name": "python",
   "nbconvert_exporter": "python",
   "pygments_lexer": "ipython3",
   "version": "3.5.2"
  }
 },
 "nbformat": 4,
 "nbformat_minor": 1
}
